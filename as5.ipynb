{
 "cells": [
  {
   "cell_type": "code",
   "execution_count": 1,
   "metadata": {},
   "outputs": [],
   "source": [
    "def check_fermat(a,b,c,n):\n",
    "    num1 = math.pow(a,n)\n",
    "    num2 = math.pow(b,n)\n",
    "    num3 = math.pow(c,n)\n",
    "    sumnum = num1 + num2\n",
    "    \n",
    "    if(n > 2):\n",
    "        if(sumnum == num3):\n",
    "            print(\"I made a discovery - Fermat was wrong\")\n",
    "            return False\n",
    "        else:\n",
    "            return True\n",
    "    elif(n < 0):\n",
    "        print(\"Error!!! Number must be greater than 0\")"
   ]
  },
  {
   "cell_type": "code",
   "execution_count": null,
   "metadata": {},
   "outputs": [],
   "source": []
  }
 ],
 "metadata": {
  "kernelspec": {
   "display_name": "Python 3",
   "language": "python",
   "name": "python3"
  },
  "language_info": {
   "codemirror_mode": {
    "name": "ipython",
    "version": 3
   },
   "file_extension": ".py",
   "mimetype": "text/x-python",
   "name": "python",
   "nbconvert_exporter": "python",
   "pygments_lexer": "ipython3",
   "version": "3.6.7"
  }
 },
 "nbformat": 4,
 "nbformat_minor": 2
}
